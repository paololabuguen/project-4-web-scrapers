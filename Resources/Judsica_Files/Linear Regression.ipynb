{
 "cells": [
  {
   "cell_type": "code",
   "execution_count": 1,
   "id": "cf12d441",
   "metadata": {},
   "outputs": [],
   "source": [
    "# Import the modules\n",
    "import numpy as np\n",
    "import pandas as pd\n",
    "from pathlib import Path\n",
    "from sklearn.metrics import balanced_accuracy_score, confusion_matrix, classification_report\n",
    "from sklearn.preprocessing import StandardScaler\n",
    "import h5py"
   ]
  },
  {
   "cell_type": "code",
   "execution_count": 2,
   "id": "9e218b35",
   "metadata": {},
   "outputs": [
    {
     "data": {
      "text/html": [
       "<div>\n",
       "<style scoped>\n",
       "    .dataframe tbody tr th:only-of-type {\n",
       "        vertical-align: middle;\n",
       "    }\n",
       "\n",
       "    .dataframe tbody tr th {\n",
       "        vertical-align: top;\n",
       "    }\n",
       "\n",
       "    .dataframe thead th {\n",
       "        text-align: right;\n",
       "    }\n",
       "</style>\n",
       "<table border=\"1\" class=\"dataframe\">\n",
       "  <thead>\n",
       "    <tr style=\"text-align: right;\">\n",
       "      <th></th>\n",
       "      <th>ID</th>\n",
       "      <th>Loan Amount</th>\n",
       "      <th>Funded Amount</th>\n",
       "      <th>Funded Amount Investor</th>\n",
       "      <th>Term</th>\n",
       "      <th>Batch Enrolled</th>\n",
       "      <th>Interest Rate</th>\n",
       "      <th>Grade</th>\n",
       "      <th>Sub Grade</th>\n",
       "      <th>Home Ownership</th>\n",
       "      <th>...</th>\n",
       "      <th>Recoveries</th>\n",
       "      <th>Collection Recovery Fee</th>\n",
       "      <th>Collection 12 months Medical</th>\n",
       "      <th>Application Type</th>\n",
       "      <th>Last week Pay</th>\n",
       "      <th>Accounts Delinquent</th>\n",
       "      <th>Total Collection Amount</th>\n",
       "      <th>Total Current Balance</th>\n",
       "      <th>Total Revolving Credit Limit</th>\n",
       "      <th>Loan Status</th>\n",
       "    </tr>\n",
       "  </thead>\n",
       "  <tbody>\n",
       "    <tr>\n",
       "      <th>0</th>\n",
       "      <td>65087372</td>\n",
       "      <td>10000</td>\n",
       "      <td>32236</td>\n",
       "      <td>12329.36286</td>\n",
       "      <td>59</td>\n",
       "      <td>BAT2522922</td>\n",
       "      <td>11.135007</td>\n",
       "      <td>B</td>\n",
       "      <td>C4</td>\n",
       "      <td>MORTGAGE</td>\n",
       "      <td>...</td>\n",
       "      <td>2.498291</td>\n",
       "      <td>0.793724</td>\n",
       "      <td>0</td>\n",
       "      <td>INDIVIDUAL</td>\n",
       "      <td>49</td>\n",
       "      <td>0</td>\n",
       "      <td>31</td>\n",
       "      <td>311301</td>\n",
       "      <td>6619</td>\n",
       "      <td>0</td>\n",
       "    </tr>\n",
       "    <tr>\n",
       "      <th>1</th>\n",
       "      <td>1450153</td>\n",
       "      <td>3609</td>\n",
       "      <td>11940</td>\n",
       "      <td>12191.99692</td>\n",
       "      <td>59</td>\n",
       "      <td>BAT1586599</td>\n",
       "      <td>12.237563</td>\n",
       "      <td>C</td>\n",
       "      <td>D3</td>\n",
       "      <td>RENT</td>\n",
       "      <td>...</td>\n",
       "      <td>2.377215</td>\n",
       "      <td>0.974821</td>\n",
       "      <td>0</td>\n",
       "      <td>INDIVIDUAL</td>\n",
       "      <td>109</td>\n",
       "      <td>0</td>\n",
       "      <td>53</td>\n",
       "      <td>182610</td>\n",
       "      <td>20885</td>\n",
       "      <td>0</td>\n",
       "    </tr>\n",
       "    <tr>\n",
       "      <th>2</th>\n",
       "      <td>1969101</td>\n",
       "      <td>28276</td>\n",
       "      <td>9311</td>\n",
       "      <td>21603.22455</td>\n",
       "      <td>59</td>\n",
       "      <td>BAT2136391</td>\n",
       "      <td>12.545884</td>\n",
       "      <td>F</td>\n",
       "      <td>D4</td>\n",
       "      <td>MORTGAGE</td>\n",
       "      <td>...</td>\n",
       "      <td>4.316277</td>\n",
       "      <td>1.020075</td>\n",
       "      <td>0</td>\n",
       "      <td>INDIVIDUAL</td>\n",
       "      <td>66</td>\n",
       "      <td>0</td>\n",
       "      <td>34</td>\n",
       "      <td>89801</td>\n",
       "      <td>26155</td>\n",
       "      <td>0</td>\n",
       "    </tr>\n",
       "    <tr>\n",
       "      <th>3</th>\n",
       "      <td>6651430</td>\n",
       "      <td>11170</td>\n",
       "      <td>6954</td>\n",
       "      <td>17877.15585</td>\n",
       "      <td>59</td>\n",
       "      <td>BAT2428731</td>\n",
       "      <td>16.731201</td>\n",
       "      <td>C</td>\n",
       "      <td>C3</td>\n",
       "      <td>MORTGAGE</td>\n",
       "      <td>...</td>\n",
       "      <td>0.107020</td>\n",
       "      <td>0.749971</td>\n",
       "      <td>0</td>\n",
       "      <td>INDIVIDUAL</td>\n",
       "      <td>39</td>\n",
       "      <td>0</td>\n",
       "      <td>40</td>\n",
       "      <td>9189</td>\n",
       "      <td>60214</td>\n",
       "      <td>0</td>\n",
       "    </tr>\n",
       "    <tr>\n",
       "      <th>4</th>\n",
       "      <td>14354669</td>\n",
       "      <td>16890</td>\n",
       "      <td>13226</td>\n",
       "      <td>13539.92667</td>\n",
       "      <td>59</td>\n",
       "      <td>BAT5341619</td>\n",
       "      <td>15.008300</td>\n",
       "      <td>C</td>\n",
       "      <td>D4</td>\n",
       "      <td>MORTGAGE</td>\n",
       "      <td>...</td>\n",
       "      <td>1294.818751</td>\n",
       "      <td>0.368953</td>\n",
       "      <td>0</td>\n",
       "      <td>INDIVIDUAL</td>\n",
       "      <td>18</td>\n",
       "      <td>0</td>\n",
       "      <td>430</td>\n",
       "      <td>126029</td>\n",
       "      <td>22579</td>\n",
       "      <td>0</td>\n",
       "    </tr>\n",
       "  </tbody>\n",
       "</table>\n",
       "<p>5 rows × 35 columns</p>\n",
       "</div>"
      ],
      "text/plain": [
       "         ID  Loan Amount  Funded Amount  Funded Amount Investor  Term  \\\n",
       "0  65087372        10000          32236             12329.36286    59   \n",
       "1   1450153         3609          11940             12191.99692    59   \n",
       "2   1969101        28276           9311             21603.22455    59   \n",
       "3   6651430        11170           6954             17877.15585    59   \n",
       "4  14354669        16890          13226             13539.92667    59   \n",
       "\n",
       "  Batch Enrolled  Interest Rate Grade Sub Grade Home Ownership  ...  \\\n",
       "0     BAT2522922      11.135007     B        C4       MORTGAGE  ...   \n",
       "1     BAT1586599      12.237563     C        D3           RENT  ...   \n",
       "2     BAT2136391      12.545884     F        D4       MORTGAGE  ...   \n",
       "3     BAT2428731      16.731201     C        C3       MORTGAGE  ...   \n",
       "4     BAT5341619      15.008300     C        D4       MORTGAGE  ...   \n",
       "\n",
       "    Recoveries Collection Recovery Fee Collection 12 months Medical  \\\n",
       "0     2.498291                0.793724                            0   \n",
       "1     2.377215                0.974821                            0   \n",
       "2     4.316277                1.020075                            0   \n",
       "3     0.107020                0.749971                            0   \n",
       "4  1294.818751                0.368953                            0   \n",
       "\n",
       "  Application Type  Last week Pay  Accounts Delinquent  \\\n",
       "0       INDIVIDUAL             49                    0   \n",
       "1       INDIVIDUAL            109                    0   \n",
       "2       INDIVIDUAL             66                    0   \n",
       "3       INDIVIDUAL             39                    0   \n",
       "4       INDIVIDUAL             18                    0   \n",
       "\n",
       "   Total Collection Amount  Total Current Balance  \\\n",
       "0                       31                 311301   \n",
       "1                       53                 182610   \n",
       "2                       34                  89801   \n",
       "3                       40                   9189   \n",
       "4                      430                 126029   \n",
       "\n",
       "   Total Revolving Credit Limit  Loan Status  \n",
       "0                          6619            0  \n",
       "1                         20885            0  \n",
       "2                         26155            0  \n",
       "3                         60214            0  \n",
       "4                         22579            0  \n",
       "\n",
       "[5 rows x 35 columns]"
      ]
     },
     "execution_count": 2,
     "metadata": {},
     "output_type": "execute_result"
    }
   ],
   "source": [
    "# Read the CSV file from the folder into a Pandas DataFram6e\n",
    "df = pd.read_csv(\n",
    "    Path(\"../mainDS.csv\")\n",
    ")\n",
    "# Review the DataFrame\n",
    "df.head()"
   ]
  },
  {
   "cell_type": "code",
   "execution_count": 3,
   "id": "b18f93a6",
   "metadata": {},
   "outputs": [],
   "source": [
    "columns_to_drop = ['Grade', 'Batch Enrolled', 'Sub Grade', 'Home Ownership', 'Application Type']\n",
    "\n",
    "# Checking if the columns exist in the DataFrame before dropping them\n",
    "columns_to_drop = [col for col in columns_to_drop if col in df.columns]\n",
    "\n",
    "# Drop the specified columns\n",
    "df = df.drop(columns=columns_to_drop)"
   ]
  },
  {
   "cell_type": "code",
   "execution_count": null,
   "id": "d974c500",
   "metadata": {},
   "outputs": [],
   "source": [
    "df.head()"
   ]
  },
  {
   "cell_type": "code",
   "execution_count": null,
   "id": "ed142faa",
   "metadata": {},
   "outputs": [],
   "source": [
    "y = df['Loan Status']\n",
    "\n",
    "\n",
    "X = df.drop(columns='Loan Status')"
   ]
  },
  {
   "cell_type": "code",
   "execution_count": null,
   "id": "778d5bba",
   "metadata": {},
   "outputs": [],
   "source": [
    "y.head()"
   ]
  },
  {
   "cell_type": "code",
   "execution_count": null,
   "id": "467f9d91",
   "metadata": {
    "scrolled": false
   },
   "outputs": [],
   "source": [
    "# Reviewing the X variable DataFrame\n",
    "X.head()"
   ]
  },
  {
   "cell_type": "code",
   "execution_count": 4,
   "id": "70b901bc",
   "metadata": {},
   "outputs": [],
   "source": [
    "#Dropping columns with variable names\n",
    "column = ['Verification Status']"
   ]
  },
  {
   "cell_type": "code",
   "execution_count": 5,
   "id": "fffcfd7d",
   "metadata": {},
   "outputs": [],
   "source": [
    "df.drop(columns = column, inplace=True)"
   ]
  },
  {
   "cell_type": "code",
   "execution_count": 6,
   "id": "43422939",
   "metadata": {},
   "outputs": [],
   "source": [
    "df.drop(columns = [\"Payment Plan\", \"Loan Title\", \"ID\"], inplace=True)"
   ]
  },
  {
   "cell_type": "code",
   "execution_count": null,
   "id": "d9d062c3",
   "metadata": {},
   "outputs": [],
   "source": [
    "df.shape"
   ]
  },
  {
   "cell_type": "code",
   "execution_count": null,
   "id": "6f08e56b",
   "metadata": {},
   "outputs": [],
   "source": [
    "df.head()"
   ]
  },
  {
   "cell_type": "code",
   "execution_count": null,
   "id": "49f9ff97",
   "metadata": {},
   "outputs": [],
   "source": [
    "# Checking the balance of our target values\n",
    "target_balance = y.value_counts()\n",
    "print(target_balance)"
   ]
  },
  {
   "cell_type": "code",
   "execution_count": null,
   "id": "e53d5fa9",
   "metadata": {},
   "outputs": [],
   "source": [
    "# Import the train_test_learn module\n",
    "from sklearn.model_selection import train_test_split\n",
    "\n",
    "# Split the data using train_test_split\n",
    "# Assign a random_state of 1 to the function\n",
    "X_train, X_test, y_train, y_test = train_test_split(X, y, random_state=1)"
   ]
  },
  {
   "cell_type": "code",
   "execution_count": null,
   "id": "d7ad2a47",
   "metadata": {},
   "outputs": [],
   "source": [
    "print(df.columns)"
   ]
  },
  {
   "cell_type": "code",
   "execution_count": null,
   "id": "46961a95",
   "metadata": {
    "scrolled": false
   },
   "outputs": [],
   "source": [
    "df.head()"
   ]
  },
  {
   "cell_type": "code",
   "execution_count": null,
   "id": "8f8d877e",
   "metadata": {
    "scrolled": false
   },
   "outputs": [],
   "source": [
    "print(df.dtypes)"
   ]
  },
  {
   "cell_type": "code",
   "execution_count": null,
   "id": "fde0a391",
   "metadata": {},
   "outputs": [],
   "source": [
    "print(df.columns)"
   ]
  },
  {
   "cell_type": "code",
   "execution_count": 7,
   "id": "a9cee1cd",
   "metadata": {},
   "outputs": [],
   "source": [
    "#Dropping columns with variable names\n",
    "column_one = ['Initial List Status']"
   ]
  },
  {
   "cell_type": "code",
   "execution_count": 8,
   "id": "231f996e",
   "metadata": {},
   "outputs": [],
   "source": [
    "df.drop(columns = column_one, inplace=True)"
   ]
  },
  {
   "cell_type": "code",
   "execution_count": null,
   "id": "c0dbca9e",
   "metadata": {},
   "outputs": [],
   "source": [
    "print(df.dtypes)"
   ]
  },
  {
   "cell_type": "code",
   "execution_count": null,
   "id": "796445c4",
   "metadata": {
    "scrolled": true
   },
   "outputs": [],
   "source": [
    "df.head()"
   ]
  },
  {
   "cell_type": "code",
   "execution_count": 9,
   "id": "de619e42",
   "metadata": {},
   "outputs": [],
   "source": [
    "# Splitting data into training and testing datasets\n",
    "from sklearn.model_selection import train_test_split\n",
    "X = df.drop('Loan Status', axis=1)\n",
    "y = df['Loan Status'] \n",
    "X_train, X_test, y_train, y_test = train_test_split(X, y, test_size=0.2, random_state=1)"
   ]
  },
  {
   "cell_type": "code",
   "execution_count": null,
   "id": "21a93580",
   "metadata": {},
   "outputs": [],
   "source": [
    "X_test_df = pd.DataFrame(X_test)\n",
    "y_test_df = pd.DataFrame(y_test)\n"
   ]
  },
  {
   "cell_type": "code",
   "execution_count": 10,
   "id": "799141fa",
   "metadata": {},
   "outputs": [],
   "source": [
    "# Scaling\n",
    "scaler = StandardScaler()\n",
    "X_scaler = scaler.fit(X_train)\n",
    "\n",
    "# Scale the data\n",
    "X_train_scaled = X_scaler.transform(X_train)\n",
    "X_test_scaled = X_scaler.transform(X_test)\n"
   ]
  },
  {
   "cell_type": "code",
   "execution_count": 15,
   "id": "734ab93f",
   "metadata": {},
   "outputs": [],
   "source": [
    "X_test_scaled_df = pd.DataFrame(X_test_scaled)\n",
    "X_test_scaled_df.to_csv('X_test_scaled.csv', index=False)"
   ]
  },
  {
   "cell_type": "code",
   "execution_count": 25,
   "id": "90efe8b8",
   "metadata": {},
   "outputs": [
    {
     "name": "stdout",
     "output_type": "stream",
     "text": [
      "24\n",
      "24\n"
     ]
    }
   ],
   "source": [
    "print(len(list(X_test.iloc[123].values)))\n",
    "print(len(list(X_test.iloc[123].keys())))"
   ]
  },
  {
   "cell_type": "code",
   "execution_count": null,
   "id": "804939fa",
   "metadata": {
    "scrolled": true
   },
   "outputs": [],
   "source": [
    "# Import the LogisticRegression module from SKLearn\n",
    "from sklearn.linear_model import LogisticRegression\n",
    "\n",
    "# Instantiate the Logistic Regression model\n",
    "# Assign a random_state parameter of 1 to the model\n",
    "model = LogisticRegression(random_state=1, max_iter=500)\n",
    "\n",
    "# Fit the model using training data\n",
    "model.fit(X_train_scaled, y_train)"
   ]
  },
  {
   "cell_type": "code",
   "execution_count": null,
   "id": "455dfc1a",
   "metadata": {},
   "outputs": [],
   "source": [
    "X_train.columns"
   ]
  },
  {
   "cell_type": "code",
   "execution_count": null,
   "id": "58daafdb",
   "metadata": {},
   "outputs": [],
   "source": [
    "model.predict "
   ]
  },
  {
   "cell_type": "code",
   "execution_count": null,
   "id": "60be1a80",
   "metadata": {},
   "outputs": [],
   "source": [
    "y_train"
   ]
  },
  {
   "cell_type": "code",
   "execution_count": null,
   "id": "7b173d1c",
   "metadata": {},
   "outputs": [],
   "source": [
    "X_train_scaled"
   ]
  },
  {
   "cell_type": "code",
   "execution_count": null,
   "id": "dd7eda54",
   "metadata": {},
   "outputs": [],
   "source": [
    "# Make a prediction using the testing data\n",
    "predictions = model.predict(X_test_scaled)"
   ]
  },
  {
   "cell_type": "code",
   "execution_count": null,
   "id": "96635472",
   "metadata": {},
   "outputs": [],
   "source": [
    "# Print the balanced_accuracy score of the model\n",
    "balanced_accuracy = balanced_accuracy_score(y_test, predictions)"
   ]
  },
  {
   "cell_type": "code",
   "execution_count": null,
   "id": "9054d911",
   "metadata": {},
   "outputs": [],
   "source": [
    "# Generate a confusion matrix for the model\n",
    "confusion = confusion_matrix(y_test, predictions)"
   ]
  },
  {
   "cell_type": "code",
   "execution_count": null,
   "id": "1f4df4d6",
   "metadata": {
    "scrolled": true
   },
   "outputs": [],
   "source": [
    "# Print the classification report for the model\n",
    "print(\"Balanced Accuracy Score:\", balanced_accuracy)\n",
    "print(\"Confusion Matrix:\", confusion)\n",
    "class_rep = classification_report(y_test, predictions)\n",
    "print(\"Classification Report:\", class_rep  )"
   ]
  },
  {
   "cell_type": "code",
   "execution_count": null,
   "id": "ccc994c9",
   "metadata": {
    "scrolled": true
   },
   "outputs": [],
   "source": [
    "X_test_df = pd.DataFrame(X_test)\n",
    "y_test_df = pd.DataFrame(y_test)\n",
    "\n",
    "# Define file names for saving\n",
    "x_test_filename = \"X_test.csv\"\n",
    "y_test_filename = \"y_test.csv\"\n",
    "\n",
    "# Save X test data to a CSV file\n",
    "X_test_df.to_csv(x_test_filename, index=False)\n",
    "\n",
    "# Save y test data to a CSV file\n",
    "y_test_df.to_csv(y_test_filename, index=False)\n",
    "\n",
    "print(f\"X test data saved to {x_test_filename}\")\n",
    "print(f\"y test data saved to {y_test_filename}\")"
   ]
  },
  {
   "cell_type": "code",
   "execution_count": null,
   "id": "190ea669",
   "metadata": {},
   "outputs": [],
   "source": [
    "#converting the model into an h5 file\n",
    "h5 = h5py.File(\"Linear_Regression.h5\", \"w\")\n",
    "\n",
    "# Create datasets to store your scaled data\n",
    "h5.create_dataset(\"X_train_scaled\", data=X_train_scaled)\n",
    "h5.create_dataset(\"X_test_scaled\", data=X_test_scaled)\n",
    "\n",
    "# Close the HDF5 file\n",
    "h5.close()"
   ]
  },
  {
   "cell_type": "code",
   "execution_count": 26,
   "id": "dc4c8df0",
   "metadata": {},
   "outputs": [],
   "source": [
    "import pickle"
   ]
  },
  {
   "cell_type": "code",
   "execution_count": 28,
   "id": "f8ccf962",
   "metadata": {},
   "outputs": [
    {
     "ename": "IndexError",
     "evalue": "list index out of range",
     "output_type": "error",
     "traceback": [
      "\u001b[1;31m---------------------------------------------------------------------------\u001b[0m",
      "\u001b[1;31mIndexError\u001b[0m                                Traceback (most recent call last)",
      "\u001b[1;32mc:\\Users\\Paolo\\PROJECT\\project-4-web-scrapers\\Resources\\Judsica_Files\\Linear Regression.ipynb Cell 40\u001b[0m line \u001b[0;36m2\n\u001b[0;32m     <a href='vscode-notebook-cell:/c%3A/Users/Paolo/PROJECT/project-4-web-scrapers/Resources/Judsica_Files/Linear%20Regression.ipynb#X50sZmlsZQ%3D%3D?line=18'>19</a>\u001b[0m col_values \u001b[39m=\u001b[39m \u001b[39mlist\u001b[39m(X_test_row\u001b[39m.\u001b[39miloc[random_index]\u001b[39m.\u001b[39mvalues)\n\u001b[0;32m     <a href='vscode-notebook-cell:/c%3A/Users/Paolo/PROJECT/project-4-web-scrapers/Resources/Judsica_Files/Linear%20Regression.ipynb#X50sZmlsZQ%3D%3D?line=20'>21</a>\u001b[0m \u001b[39mfor\u001b[39;00m i \u001b[39min\u001b[39;00m \u001b[39mrange\u001b[39m(\u001b[39mlen\u001b[39m(col_names)):\n\u001b[1;32m---> <a href='vscode-notebook-cell:/c%3A/Users/Paolo/PROJECT/project-4-web-scrapers/Resources/Judsica_Files/Linear%20Regression.ipynb#X50sZmlsZQ%3D%3D?line=21'>22</a>\u001b[0m     score_json[col_names[i]] \u001b[39m=\u001b[39m col_values[i]\n\u001b[0;32m     <a href='vscode-notebook-cell:/c%3A/Users/Paolo/PROJECT/project-4-web-scrapers/Resources/Judsica_Files/Linear%20Regression.ipynb#X50sZmlsZQ%3D%3D?line=23'>24</a>\u001b[0m     \u001b[39m# Load the model\u001b[39;00m\n\u001b[0;32m     <a href='vscode-notebook-cell:/c%3A/Users/Paolo/PROJECT/project-4-web-scrapers/Resources/Judsica_Files/Linear%20Regression.ipynb#X50sZmlsZQ%3D%3D?line=24'>25</a>\u001b[0m     \u001b[39m# model = pickle.load(open(model_2_link, 'rb'))\u001b[39;00m\n\u001b[0;32m     <a href='vscode-notebook-cell:/c%3A/Users/Paolo/PROJECT/project-4-web-scrapers/Resources/Judsica_Files/Linear%20Regression.ipynb#X50sZmlsZQ%3D%3D?line=25'>26</a>\u001b[0m \u001b[39mwith\u001b[39;00m \u001b[39mopen\u001b[39m(model_2_link, \u001b[39m'\u001b[39m\u001b[39mrb\u001b[39m\u001b[39m'\u001b[39m) \u001b[39mas\u001b[39;00m file:\n",
      "\u001b[1;31mIndexError\u001b[0m: list index out of range"
     ]
    }
   ],
   "source": [
    "model_2_link = 'model_2.h5'\n",
    "X_test_link = 'X_test_scaled.csv'\n",
    "y_test_link = 'y_test.csv'\n",
    "X_test_row_link = 'X_test.csv'\n",
    "\n",
    "prediction_id = {0: \"Non-Defaulter\", 1: \"Defaulter\"}\n",
    "# Create separate dataframes for the X_test and y_test\n",
    "X_test = pd.read_csv(Path(X_test_link))\n",
    "y_test = pd.read_csv(Path(y_test_link))\n",
    "X_test_row = pd.read_csv(Path(X_test_row_link))\n",
    "\n",
    "score_json = {}\n",
    "\n",
    "# Generate a random index\n",
    "random_row = X_test.sample()\n",
    "random_index = random_row.index\n",
    "\n",
    "col_names = list(X_test_row.iloc[random_index].keys())\n",
    "col_values = list(X_test_row.iloc[random_index].values)\n",
    "\n",
    "print(len(col_names))\n",
    "print(len(col_values))\n",
    "for i in range(len(col_names)):\n",
    "    score_json[col_names[i]] = col_values[i]\n",
    "\n",
    "    # Load the model\n",
    "    # model = pickle.load(open(model_2_link, 'rb'))\n",
    "with open(model_2_link, 'rb') as file:\n",
    "    model = pickle.load(file)\n",
    "\n",
    "    # # Make predictions to a random rown and X_test\n",
    "prediction_row = model.predict(random_row)\n",
    "prediction = model.predict(X_test)\n",
    "\n",
    "    # Balanced Accuracy score\n",
    "score = balanced_accuracy_score(y_test, prediction)\n",
    "\n",
    "y_test.iloc[random_index, 0].values[0]\n",
    "    # Dictionary to jsonify\n",
    "score_json = score_json.update({'Row Number on Test Dataframe': int(random_index[0]), 'Predicted': prediction_id[int(prediction_row[0])], 'Actual': prediction_id[int(y_test.iloc[random_index, 0].values[0])],\n",
    "                                    'Balanced Accuracy Score': float(score)})\n",
    "\n",
    "score_json"
   ]
  }
 ],
 "metadata": {
  "kernelspec": {
   "display_name": "Python 3 (ipykernel)",
   "language": "python",
   "name": "python3"
  },
  "language_info": {
   "codemirror_mode": {
    "name": "ipython",
    "version": 3
   },
   "file_extension": ".py",
   "mimetype": "text/x-python",
   "name": "python",
   "nbconvert_exporter": "python",
   "pygments_lexer": "ipython3",
   "version": "3.10.13"
  }
 },
 "nbformat": 4,
 "nbformat_minor": 5
}
